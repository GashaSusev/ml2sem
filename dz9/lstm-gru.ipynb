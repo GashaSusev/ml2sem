{
 "cells": [
  {
   "cell_type": "code",
   "execution_count": 18,
   "metadata": {
    "_cell_guid": "b1076dfc-b9ad-4769-8c92-a6c4dae69d19",
    "_uuid": "8f2839f25d086af736a60e9eeb907d3b93b6e0e5",
    "execution": {
     "iopub.execute_input": "2025-06-23T07:59:11.818635Z",
     "iopub.status.busy": "2025-06-23T07:59:11.818199Z",
     "iopub.status.idle": "2025-06-23T07:59:11.823804Z",
     "shell.execute_reply": "2025-06-23T07:59:11.822708Z",
     "shell.execute_reply.started": "2025-06-23T07:59:11.818605Z"
    },
    "trusted": true
   },
   "outputs": [],
   "source": [
    "import torch\n",
    "import torch.nn as nn\n",
    "import torch.optim as optim\n",
    "from torch.utils.data import DataLoader, Dataset\n",
    "import numpy as np\n",
    "import matplotlib.pyplot as plt\n",
    "import time"
   ]
  },
  {
   "cell_type": "code",
   "execution_count": 19,
   "metadata": {
    "execution": {
     "iopub.execute_input": "2025-06-23T07:59:11.825655Z",
     "iopub.status.busy": "2025-06-23T07:59:11.825369Z",
     "iopub.status.idle": "2025-06-23T07:59:11.872363Z",
     "shell.execute_reply": "2025-06-23T07:59:11.871261Z",
     "shell.execute_reply.started": "2025-06-23T07:59:11.825634Z"
    },
    "trusted": true
   },
   "outputs": [],
   "source": [
    "class SineNoiseDataset(Dataset):\n",
    "    def __init__(self, num_samples=1000, seq_length=50):\n",
    "        self.X = []\n",
    "        self.y = []\n",
    "        for _ in range(num_samples):\n",
    "            if np.random.rand() > 0.5:\n",
    "                freq = np.random.uniform(1, 3)\n",
    "                x = np.sin(np.linspace(0, freq * np.pi, seq_length))\n",
    "                label = 0\n",
    "            else:\n",
    "                x = np.random.normal(0, 1, seq_length)\n",
    "                label = 1\n",
    "            self.X.append(x)\n",
    "            self.y.append(label)\n",
    "\n",
    "        self.X = torch.tensor(self.X, dtype=torch.float32).unsqueeze(-1)\n",
    "        self.y = torch.tensor(self.y, dtype=torch.long)\n",
    "\n",
    "    def __len__(self):\n",
    "        return len(self.y)\n",
    "\n",
    "    def __getitem__(self, idx):\n",
    "        return self.X[idx], self.y[idx]\n",
    "\n",
    "train_dataset = SineNoiseDataset()\n",
    "test_dataset = SineNoiseDataset(300)\n",
    "\n",
    "train_loader = DataLoader(train_dataset, batch_size=64, shuffle=True)\n",
    "test_loader = DataLoader(test_dataset, batch_size=64)"
   ]
  },
  {
   "cell_type": "code",
   "execution_count": 20,
   "metadata": {
    "execution": {
     "iopub.execute_input": "2025-06-23T07:59:11.873560Z",
     "iopub.status.busy": "2025-06-23T07:59:11.873212Z",
     "iopub.status.idle": "2025-06-23T07:59:11.886181Z",
     "shell.execute_reply": "2025-06-23T07:59:11.885014Z",
     "shell.execute_reply.started": "2025-06-23T07:59:11.873531Z"
    },
    "trusted": true
   },
   "outputs": [],
   "source": [
    "import torch\n",
    "import torch.nn as nn\n",
    "import torch.nn.functional as F\n",
    "\n",
    "class CustomLSTM(nn.Module):\n",
    "    def __init__(self, input_size, hidden_size):\n",
    "        super().__init__()\n",
    "        self.input_size = input_size\n",
    "        self.hidden_size = hidden_size\n",
    "\n",
    "        self.Wx = nn.Linear(input_size, 4 * hidden_size)\n",
    "        self.Wh = nn.Linear(hidden_size, 4 * hidden_size)\n",
    "\n",
    "    def forward(self, x, init_states=None):\n",
    "        B, T, _ = x.size()\n",
    "        h = torch.zeros(B, self.hidden_size, device=x.device) if init_states is None else init_states[0]\n",
    "        c = torch.zeros(B, self.hidden_size, device=x.device) if init_states is None else init_states[1]\n",
    "\n",
    "        outputs = []\n",
    "        for t in range(T):\n",
    "            x_t = x[:, t]\n",
    "            gates = self.Wx(x_t) + self.Wh(h)\n",
    "            i, f, g, o = gates.chunk(4, dim=1)\n",
    "            i = torch.sigmoid(i)\n",
    "            f = torch.sigmoid(f)\n",
    "            g = torch.tanh(g)\n",
    "            o = torch.sigmoid(o)\n",
    "\n",
    "            c = f * c + i * g\n",
    "            h = o * torch.tanh(c)\n",
    "            outputs.append(h.unsqueeze(1))\n",
    "\n",
    "        return torch.cat(outputs, dim=1), (h, c)"
   ]
  },
  {
   "cell_type": "code",
   "execution_count": 21,
   "metadata": {
    "execution": {
     "iopub.execute_input": "2025-06-23T07:59:11.888119Z",
     "iopub.status.busy": "2025-06-23T07:59:11.887835Z",
     "iopub.status.idle": "2025-06-23T07:59:11.908298Z",
     "shell.execute_reply": "2025-06-23T07:59:11.907287Z",
     "shell.execute_reply.started": "2025-06-23T07:59:11.888100Z"
    },
    "trusted": true
   },
   "outputs": [],
   "source": [
    "class CustomGRU(nn.Module):\n",
    "    def __init__(self, input_size, hidden_size):\n",
    "        super().__init__()\n",
    "        self.input_size = input_size\n",
    "        self.hidden_size = hidden_size\n",
    "\n",
    "        self.Wx = nn.Linear(input_size, 3 * hidden_size)\n",
    "        self.Wh = nn.Linear(hidden_size, 3 * hidden_size)\n",
    "\n",
    "    def forward(self, x, h=None):\n",
    "        B, T, _ = x.size()\n",
    "        h = torch.zeros(B, self.hidden_size, device=x.device) if h is None else h\n",
    "\n",
    "        outputs = []\n",
    "        for t in range(T):\n",
    "            x_t = x[:, t]\n",
    "            gates = self.Wx(x_t) + self.Wh(h)\n",
    "            z, r, h_tilde = gates.chunk(3, dim=1)\n",
    "\n",
    "            z = torch.sigmoid(z)\n",
    "            r = torch.sigmoid(r)\n",
    "            h_tilde = torch.tanh(h_tilde + r * self.Wh(h).chunk(3, dim=1)[2])\n",
    "\n",
    "            h = (1 - z) * h + z * h_tilde\n",
    "            outputs.append(h.unsqueeze(1))\n",
    "\n",
    "        return torch.cat(outputs, dim=1), h"
   ]
  },
  {
   "cell_type": "code",
   "execution_count": 22,
   "metadata": {
    "execution": {
     "iopub.execute_input": "2025-06-23T07:59:11.909479Z",
     "iopub.status.busy": "2025-06-23T07:59:11.909096Z",
     "iopub.status.idle": "2025-06-23T07:59:11.932588Z",
     "shell.execute_reply": "2025-06-23T07:59:11.931708Z",
     "shell.execute_reply.started": "2025-06-23T07:59:11.909452Z"
    },
    "trusted": true
   },
   "outputs": [],
   "source": [
    "class LSTMClassifier(nn.Module):\n",
    "    def __init__(self, input_size=1, hidden_size=64, num_classes=2):\n",
    "        super().__init__()\n",
    "        self.rnn = CustomLSTM(input_size, hidden_size)\n",
    "        self.fc = nn.Linear(hidden_size, num_classes)\n",
    "\n",
    "    def forward(self, x):\n",
    "        _, (h, _) = self.rnn(x)\n",
    "        return self.fc(h)\n",
    "\n",
    "\n",
    "class GRUClassifier(nn.Module):\n",
    "    def __init__(self, input_size=1, hidden_size=64, num_classes=2):\n",
    "        super().__init__()\n",
    "        self.rnn = CustomGRU(input_size, hidden_size)\n",
    "        self.fc = nn.Linear(hidden_size, num_classes)\n",
    "\n",
    "    def forward(self, x):\n",
    "        _, h = self.rnn(x)\n",
    "        return self.fc(h)"
   ]
  },
  {
   "cell_type": "code",
   "execution_count": 26,
   "metadata": {
    "execution": {
     "iopub.execute_input": "2025-06-23T08:04:12.928988Z",
     "iopub.status.busy": "2025-06-23T08:04:12.928619Z",
     "iopub.status.idle": "2025-06-23T08:04:12.938002Z",
     "shell.execute_reply": "2025-06-23T08:04:12.936940Z",
     "shell.execute_reply.started": "2025-06-23T08:04:12.928964Z"
    },
    "trusted": true
   },
   "outputs": [],
   "source": [
    "def train_and_eval(model, train_loader, test_loader, epochs=15, device='cpu'):\n",
    "    model = model.to(device)\n",
    "    optimizer = optim.Adam(model.parameters(), lr=1e-3)\n",
    "    criterion = nn.CrossEntropyLoss()\n",
    "    train_accs, test_accs = [], []\n",
    "\n",
    "    start_time = time.time()\n",
    "    for epoch in range(epochs):\n",
    "        model.train()\n",
    "        correct = total = 0\n",
    "        for x, y in train_loader:\n",
    "            x, y = x.to(device), y.to(device)\n",
    "            optimizer.zero_grad()\n",
    "            out = model(x)\n",
    "            loss = criterion(out, y)\n",
    "            loss.backward()\n",
    "            optimizer.step()\n",
    "            preds = out.argmax(dim=1)\n",
    "            correct += (preds == y).sum().item()\n",
    "            total += y.size(0)\n",
    "        train_acc = correct / total\n",
    "        train_accs.append(train_acc)\n",
    "\n",
    "        # Evaluation\n",
    "        model.eval()\n",
    "        correct = total = 0\n",
    "        with torch.no_grad():\n",
    "            for x, y in test_loader:\n",
    "                x, y = x.to(device), y.to(device)\n",
    "                preds = model(x).argmax(dim=1)\n",
    "                correct += (preds == y).sum().item()\n",
    "                total += y.size(0)\n",
    "        test_acc = correct / total\n",
    "        test_accs.append(test_acc)\n",
    "        print(f\"Epoch {epoch+1}: Train Acc = {train_acc:.2f}, Test Acc = {test_acc:.2f}\")\n",
    "\n",
    "    elapsed = time.time() - start_time\n",
    "    return train_accs, test_accs, elapsed"
   ]
  },
  {
   "cell_type": "code",
   "execution_count": 28,
   "metadata": {
    "execution": {
     "iopub.execute_input": "2025-06-23T08:04:24.291689Z",
     "iopub.status.busy": "2025-06-23T08:04:24.291374Z",
     "iopub.status.idle": "2025-06-23T08:04:45.735450Z",
     "shell.execute_reply": "2025-06-23T08:04:45.734306Z",
     "shell.execute_reply.started": "2025-06-23T08:04:24.291665Z"
    },
    "trusted": true
   },
   "outputs": [
    {
     "name": "stdout",
     "output_type": "stream",
     "text": [
      "\n",
      "--- Training Custom LSTM ---\n",
      "Epoch 1: Train Acc = 0.70, Test Acc = 0.82\n",
      "Epoch 2: Train Acc = 0.84, Test Acc = 0.89\n",
      "Epoch 3: Train Acc = 0.97, Test Acc = 1.00\n",
      "Epoch 4: Train Acc = 0.97, Test Acc = 0.95\n",
      "Epoch 5: Train Acc = 0.95, Test Acc = 0.99\n",
      "Epoch 6: Train Acc = 0.99, Test Acc = 1.00\n",
      "Epoch 7: Train Acc = 1.00, Test Acc = 1.00\n",
      "Epoch 8: Train Acc = 1.00, Test Acc = 1.00\n",
      "Epoch 9: Train Acc = 1.00, Test Acc = 1.00\n",
      "Epoch 10: Train Acc = 1.00, Test Acc = 1.00\n",
      "Epoch 11: Train Acc = 1.00, Test Acc = 1.00\n",
      "Epoch 12: Train Acc = 1.00, Test Acc = 1.00\n",
      "Epoch 13: Train Acc = 1.00, Test Acc = 1.00\n",
      "Epoch 14: Train Acc = 1.00, Test Acc = 1.00\n",
      "Epoch 15: Train Acc = 1.00, Test Acc = 1.00\n",
      "\n",
      "--- Training Custom GRU ---\n",
      "Epoch 1: Train Acc = 0.75, Test Acc = 0.93\n",
      "Epoch 2: Train Acc = 0.97, Test Acc = 1.00\n",
      "Epoch 3: Train Acc = 1.00, Test Acc = 0.99\n",
      "Epoch 4: Train Acc = 1.00, Test Acc = 1.00\n",
      "Epoch 5: Train Acc = 0.97, Test Acc = 1.00\n",
      "Epoch 6: Train Acc = 1.00, Test Acc = 1.00\n",
      "Epoch 7: Train Acc = 1.00, Test Acc = 1.00\n",
      "Epoch 8: Train Acc = 1.00, Test Acc = 1.00\n",
      "Epoch 9: Train Acc = 1.00, Test Acc = 1.00\n",
      "Epoch 10: Train Acc = 1.00, Test Acc = 1.00\n",
      "Epoch 11: Train Acc = 1.00, Test Acc = 1.00\n",
      "Epoch 12: Train Acc = 1.00, Test Acc = 1.00\n",
      "Epoch 13: Train Acc = 1.00, Test Acc = 1.00\n",
      "Epoch 14: Train Acc = 1.00, Test Acc = 1.00\n",
      "Epoch 15: Train Acc = 1.00, Test Acc = 1.00\n"
     ]
    }
   ],
   "source": [
    "device = 'cuda' if torch.cuda.is_available() else 'cpu'\n",
    "\n",
    "lstm_model = LSTMClassifier()\n",
    "gru_model = GRUClassifier()\n",
    "\n",
    "print(\"\\n--- Training Custom LSTM ---\")\n",
    "lstm_train_acc, lstm_test_acc, lstm_time = train_and_eval(lstm_model, train_loader, test_loader, device=device)\n",
    "\n",
    "print(\"\\n--- Training Custom GRU ---\")\n",
    "gru_train_acc, gru_test_acc, gru_time = train_and_eval(gru_model, train_loader, test_loader, device=device)"
   ]
  },
  {
   "cell_type": "code",
   "execution_count": null,
   "metadata": {
    "execution": {
     "iopub.execute_input": "2025-06-23T08:09:01.193259Z",
     "iopub.status.busy": "2025-06-23T08:09:01.192983Z",
     "iopub.status.idle": "2025-06-23T08:09:01.424498Z",
     "shell.execute_reply": "2025-06-23T08:09:01.423697Z",
     "shell.execute_reply.started": "2025-06-23T08:09:01.193237Z"
    },
    "trusted": true
   },
   "outputs": [
    {
     "data": {
      "image/png": "[encoded data removed]",
      "text/plain": [
       "<Figure size 640x480 with 1 Axes>"
      ]
     },
     "metadata": {},
     "output_type": "display_data"
    },
    {
     "name": "stdout",
     "output_type": "stream",
     "text": [
      "\n",
      "✅ Итоговое сравнение:\n",
      "LSTM: Accuracy = 100.00%, Time = 12.1 sec\n",
      "GRU : Accuracy = 100.00%, Time = 9.3 sec\n"
     ]
    }
   ],
   "source": [
    "plt.plot(lstm_test_acc, label=f'LSTM (time: {lstm_time:.1f}s)')\n",
    "plt.plot(gru_test_acc, label=f'GRU (time: {gru_time:.1f}s)')\n",
    "plt.xlabel('Epoch')\n",
    "plt.ylabel('Test Accuracy')\n",
    "plt.title('Custom RNN Comparison')\n",
    "plt.legend()\n",
    "plt.grid(True)\n",
    "plt.show()\n",
    "\n",
    "print(f\"\\n✅ Итоговое сравнение:\")\n",
    "print(f\"LSTM: Accuracy = {lstm_test_acc[-1]*100:.2f}%, Time = {lstm_time:.1f} sec\")\n",
    "print(f\"GRU : Accuracy = {gru_test_acc[-1]*100:.2f}%, Time = {gru_time:.1f} sec\")"
   ]
  }
 ],
 "metadata": {
  "kaggle": {
   "accelerator": "none",
   "dataSources": [],
   "dockerImageVersionId": 31040,
   "isGpuEnabled": false,
   "isInternetEnabled": true,
   "language": "python",
   "sourceType": "notebook"
  },
  "kernelspec": {
   "display_name": "Python 3",
   "language": "python",
   "name": "python3"
  },
  "language_info": {
   "codemirror_mode": {
    "name": "ipython",
    "version": 3
   },
   "file_extension": ".py",
   "mimetype": "text/x-python",
   "name": "python",
   "nbconvert_exporter": "python",
   "pygments_lexer": "ipython3",
   "version": "3.11.11"
  }
 },
 "nbformat": 4,
 "nbformat_minor": 4
}
